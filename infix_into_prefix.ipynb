{
  "nbformat": 4,
  "nbformat_minor": 0,
  "metadata": {
    "colab": {
      "provenance": [],
      "authorship_tag": "ABX9TyPerkh0qJ7VDfmaxJqryFJU",
      "include_colab_link": true
    },
    "kernelspec": {
      "name": "python3",
      "display_name": "Python 3"
    },
    "language_info": {
      "name": "python"
    }
  },
  "cells": [
    {
      "cell_type": "markdown",
      "metadata": {
        "id": "view-in-github",
        "colab_type": "text"
      },
      "source": [
        "<a href=\"https://colab.research.google.com/github/Ccodgodd/Data_Structure_Using_Python/blob/main/infix_into_prefix.ipynb\" target=\"_parent\"><img src=\"https://colab.research.google.com/assets/colab-badge.svg\" alt=\"Open In Colab\"/></a>"
      ]
    },
    {
      "cell_type": "markdown",
      "source": [
        "Manual Conversion to Prefix\n",
        "You can convert infix to prefix in several ways.\n",
        "One common approach is:\n",
        "\n",
        "Fully parenthesize the infix expression according to precedence.\n",
        "\n",
        "Convert each parenthesized sub-expression from infix to prefix.\n",
        "\n",
        "Let’s do that step by step:\n",
        "\n",
        "Infix:\n",
        "\n",
        "mathematica\n",
        "Copy\n",
        "Edit\n",
        "A + (B - C * D) / E\n",
        "Identify the innermost operation C * D. In prefix: * C D.\n",
        "\n",
        "Now B - (C*D) becomes - B (* C D) in prefix.\n",
        "\n",
        "Next, (B - C*D) / E becomes / (- B * C D) E in prefix.\n",
        "\n",
        "Finally, A + [that] becomes + A / - B * C D E in prefix.\n",
        "\n",
        "Hence, prefix = + A / - B * C D E."
      ],
      "metadata": {
        "id": "LWlq6pknN67j"
      }
    },
    {
      "cell_type": "code",
      "execution_count": null,
      "metadata": {
        "id": "A1yd_U0FNuKg"
      },
      "outputs": [],
      "source": [
        "# Define operator precedence\n",
        "precedence = {'+':1, '-':1, '*':2, '/':2, '^':3}\n",
        "\n",
        "def infix_to_prefix(expression):\n",
        "    # 1) Reverse the infix expression\n",
        "    rev_expr = expression[::-1]\n",
        "\n",
        "    # 2) Swap '(' with ')' and vice versa\n",
        "    swapped = []\n",
        "    for ch in rev_expr:\n",
        "        if ch == '(':\n",
        "            swapped.append(')')\n",
        "        elif ch == ')':\n",
        "            swapped.append('(')\n",
        "        else:\n",
        "            swapped.append(ch)\n",
        "    swapped_expr = \"\".join(swapped)\n",
        "\n",
        "    # 3) Convert the reversed, swapped expression to postfix\n",
        "    postfix_reversed = infix_to_postfix(swapped_expr)\n",
        "\n",
        "    # 4) Reverse the postfix result to get prefix\n",
        "    prefix = postfix_reversed[::-1]\n",
        "    return prefix\n",
        "\n",
        "def infix_to_postfix(expression):\n",
        "    stack = []\n",
        "    output = []\n",
        "\n",
        "    for ch in expression:\n",
        "        # If the character is an operand (you can refine this check as needed)\n",
        "        if ch.isalnum():\n",
        "            output.append(ch)\n",
        "        elif ch == '(':\n",
        "            stack.append(ch)\n",
        "        elif ch == ')':\n",
        "            # Pop until '('\n",
        "            while stack and stack[-1] != '(':\n",
        "                output.append(stack.pop())\n",
        "            stack.pop()  # Remove '(' from stack\n",
        "        else:\n",
        "            # Operator encountered\n",
        "            # Pop from stack to output while top of stack has higher or equal precedence\n",
        "            while (stack and stack[-1] != '(' and\n",
        "                   precedence.get(stack[-1], 0) >= precedence.get(ch, 0)):\n",
        "                output.append(stack.pop())\n",
        "            stack.append(ch)\n",
        "\n",
        "    # Pop any remaining operators\n",
        "    while stack:\n",
        "        output.append(stack.pop())\n",
        "\n",
        "    return \"\".join(output)\n",
        "\n",
        "# ------------------------------\n",
        "# Test with the given expression\n",
        "# ------------------------------\n",
        "expression = \"A+(B-C*D)/E\"\n",
        "result_prefix = infix_to_prefix(expression)\n",
        "print(\"Infix Expression: \", expression)\n",
        "print(\"Prefix Expression:\", result_prefix)\n"
      ]
    },
    {
      "cell_type": "markdown",
      "source": [
        "Explanation:\n",
        "\n",
        "infix_to_postfix is the standard algorithm that uses a stack to handle operators according to precedence.\n",
        "\n",
        "In infix_to_prefix, we simply apply the “reverse-and-swap” trick, then use our existing infix-to-postfix logic.\n",
        "\n",
        "Finally, reversing that postfix output yields the prefix expression.\n",
        "\n",
        "If you run this on A+(B-C*D)/E, you should see something like +A/-B*CD E (depending on spacing). Conceptually it is:\n",
        "\n",
        "mathematica\n",
        "Copy\n",
        "Edit\n",
        "+ A / - B * C D E\n",
        "which is the correct prefix form."
      ],
      "metadata": {
        "id": "nxx-Ib1yOWWk"
      }
    }
  ]
}